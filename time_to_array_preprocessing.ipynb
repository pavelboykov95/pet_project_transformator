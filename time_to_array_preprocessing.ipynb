{
 "cells": [
  {
   "cell_type": "code",
   "execution_count": 53,
   "id": "ed119c8f",
   "metadata": {},
   "outputs": [],
   "source": [
    "import pandas as pd\n",
    "import numpy as np\n",
    "import matplotlib.pyplot as plt\n",
    "import os\n",
    "import warnings\n",
    "warnings.filterwarnings(\"ignore\")\n",
    "import seaborn as sns\n",
    "\n",
    "from sklearn.model_selection import train_test_split\n",
    "from sklearn.preprocessing import StandardScaler"
   ]
  },
  {
   "cell_type": "code",
   "execution_count": 2,
   "id": "10b07ebe",
   "metadata": {},
   "outputs": [],
   "source": [
    "trans1 = pd.read_csv(\"data/data_train/data_train/2_trans_100.csv\")\n",
    "trans2 = pd.read_csv(\"data/data_train/data_train/2_trans_2803.csv\")\n",
    "trans3 = pd.read_csv(\"data/data_train/data_train/2_trans_1017.csv\")\n",
    "trans4 = pd.read_csv(\"data/data_train/data_train/2_trans_1018.csv\")"
   ]
  },
  {
   "cell_type": "code",
   "execution_count": 3,
   "id": "8d3fd5ef",
   "metadata": {},
   "outputs": [
    {
     "data": {
      "text/html": [
       "<div>\n",
       "<style scoped>\n",
       "    .dataframe tbody tr th:only-of-type {\n",
       "        vertical-align: middle;\n",
       "    }\n",
       "\n",
       "    .dataframe tbody tr th {\n",
       "        vertical-align: top;\n",
       "    }\n",
       "\n",
       "    .dataframe thead th {\n",
       "        text-align: right;\n",
       "    }\n",
       "</style>\n",
       "<table border=\"1\" class=\"dataframe\">\n",
       "  <thead>\n",
       "    <tr style=\"text-align: right;\">\n",
       "      <th></th>\n",
       "      <th>H2</th>\n",
       "      <th>CO</th>\n",
       "      <th>C2H4</th>\n",
       "      <th>C2H2</th>\n",
       "    </tr>\n",
       "  </thead>\n",
       "  <tbody>\n",
       "    <tr>\n",
       "      <th>0</th>\n",
       "      <td>0.002420</td>\n",
       "      <td>0.015449</td>\n",
       "      <td>0.002487</td>\n",
       "      <td>0.000298</td>\n",
       "    </tr>\n",
       "    <tr>\n",
       "      <th>1</th>\n",
       "      <td>0.002422</td>\n",
       "      <td>0.015470</td>\n",
       "      <td>0.002492</td>\n",
       "      <td>0.000298</td>\n",
       "    </tr>\n",
       "    <tr>\n",
       "      <th>2</th>\n",
       "      <td>0.002425</td>\n",
       "      <td>0.015491</td>\n",
       "      <td>0.002496</td>\n",
       "      <td>0.000299</td>\n",
       "    </tr>\n",
       "    <tr>\n",
       "      <th>3</th>\n",
       "      <td>0.002428</td>\n",
       "      <td>0.015512</td>\n",
       "      <td>0.002502</td>\n",
       "      <td>0.000299</td>\n",
       "    </tr>\n",
       "    <tr>\n",
       "      <th>4</th>\n",
       "      <td>0.002430</td>\n",
       "      <td>0.015534</td>\n",
       "      <td>0.002507</td>\n",
       "      <td>0.000299</td>\n",
       "    </tr>\n",
       "  </tbody>\n",
       "</table>\n",
       "</div>"
      ],
      "text/plain": [
       "         H2        CO      C2H4      C2H2\n",
       "0  0.002420  0.015449  0.002487  0.000298\n",
       "1  0.002422  0.015470  0.002492  0.000298\n",
       "2  0.002425  0.015491  0.002496  0.000299\n",
       "3  0.002428  0.015512  0.002502  0.000299\n",
       "4  0.002430  0.015534  0.002507  0.000299"
      ]
     },
     "execution_count": 3,
     "metadata": {},
     "output_type": "execute_result"
    }
   ],
   "source": [
    "trans1.head(5)"
   ]
  },
  {
   "cell_type": "code",
   "execution_count": 4,
   "id": "71b3381b",
   "metadata": {},
   "outputs": [
    {
     "data": {
      "text/plain": [
       "((420, 4), (420, 4), (420, 4), (420, 4))"
      ]
     },
     "execution_count": 4,
     "metadata": {},
     "output_type": "execute_result"
    }
   ],
   "source": [
    "trans1.shape, trans2.shape, trans3.shape, trans4.shape"
   ]
  },
  {
   "cell_type": "code",
   "execution_count": 50,
   "id": "6172f9f8",
   "metadata": {},
   "outputs": [],
   "source": [
    "def data_to_array(filespath):\n",
    "    datalist =[]\n",
    "    for file in os.listdir(filespath):\n",
    "        df = pd.read_csv(f\"{filespath}/{file}\", sep = \",\")\n",
    "        datalist.append(df)\n",
    "        \n",
    "    X = np.array(datalist)\n",
    "    print(f'Shape: {X.shape}')\n",
    "    return X\n",
    "\n",
    "def data_to_scaled_array(filespath):\n",
    "    datalist =[]\n",
    "    scal = StandardScaler()\n",
    "    for file in os.listdir(filespath):\n",
    "        df = pd.read_csv(f\"{filespath}/{file}\", sep = \",\")\n",
    "        df_scal = scal.fit_transform(df)\n",
    "        datalist.append(df_scal)\n",
    "        \n",
    "    X_scal = np.array(datalist)\n",
    "    print(f'Shape: {X_scal.shape}')\n",
    "    return X_scal"
   ]
  },
  {
   "cell_type": "code",
   "execution_count": 69,
   "id": "1d762941",
   "metadata": {},
   "outputs": [
    {
     "name": "stdout",
     "output_type": "stream",
     "text": [
      "Shape: (2100, 420, 4)\n"
     ]
    }
   ],
   "source": [
    "X = data_to_array('data/data_train/data_train/')"
   ]
  },
  {
   "cell_type": "code",
   "execution_count": 52,
   "id": "32b0f446",
   "metadata": {},
   "outputs": [
    {
     "name": "stdout",
     "output_type": "stream",
     "text": [
      "Shape: (2100, 420, 4)\n"
     ]
    }
   ],
   "source": [
    "X_scaled = data_to_scaled_array('data/data_train/data_train/')"
   ]
  },
  {
   "cell_type": "code",
   "execution_count": 40,
   "id": "d782d8dd",
   "metadata": {},
   "outputs": [
    {
     "name": "stdout",
     "output_type": "stream",
     "text": [
      "2100\n"
     ]
    }
   ],
   "source": [
    "files = os.listdir(filespath)\n",
    "print(len(files))"
   ]
  },
  {
   "cell_type": "code",
   "execution_count": 54,
   "id": "57c98239",
   "metadata": {},
   "outputs": [],
   "source": [
    "train_labels = pd.read_csv(\"data/train.csv\")\n",
    "train_labels.sort_values(\"id\", inplace = True)\n",
    "train_labels.set_index(\"id\", inplace = True)\n",
    "y = train_labels['category']"
   ]
  },
  {
   "cell_type": "code",
   "execution_count": 63,
   "id": "d687b61b",
   "metadata": {},
   "outputs": [],
   "source": [
    "y = train_labels['category']"
   ]
  },
  {
   "cell_type": "code",
   "execution_count": 64,
   "id": "b7c9f9cc",
   "metadata": {},
   "outputs": [
    {
     "data": {
      "text/plain": [
       "id\n",
       "2_trans_100.csv     1\n",
       "2_trans_1000.csv    1\n",
       "2_trans_1001.csv    1\n",
       "2_trans_1002.csv    1\n",
       "2_trans_1006.csv    1\n",
       "                   ..\n",
       "2_trans_993.csv     1\n",
       "2_trans_994.csv     3\n",
       "2_trans_995.csv     3\n",
       "2_trans_996.csv     1\n",
       "2_trans_997.csv     1\n",
       "Name: category, Length: 2100, dtype: int64"
      ]
     },
     "execution_count": 64,
     "metadata": {},
     "output_type": "execute_result"
    }
   ],
   "source": [
    "y"
   ]
  },
  {
   "cell_type": "code",
   "execution_count": 55,
   "id": "9514752d",
   "metadata": {},
   "outputs": [],
   "source": [
    "np.save('All_times_array',X)\n",
    "np.save('All_times_scaled_array',X_scaled)"
   ]
  },
  {
   "cell_type": "code",
   "execution_count": 70,
   "id": "58d0f4b5",
   "metadata": {},
   "outputs": [],
   "source": [
    "x_train, x_test, y_train, y_test = train_test_split(X, y, test_size = 0.2,\n",
    "                                                                        random_state = 1, stratify = y)"
   ]
  },
  {
   "cell_type": "code",
   "execution_count": 71,
   "id": "66fc867a",
   "metadata": {},
   "outputs": [
    {
     "data": {
      "text/plain": [
       "(1680, 420, 4)"
      ]
     },
     "execution_count": 71,
     "metadata": {},
     "output_type": "execute_result"
    }
   ],
   "source": [
    "x_train.shape"
   ]
  },
  {
   "cell_type": "code",
   "execution_count": 73,
   "id": "b4989934",
   "metadata": {},
   "outputs": [
    {
     "data": {
      "text/plain": [
       "(420, 420, 4)"
      ]
     },
     "execution_count": 73,
     "metadata": {},
     "output_type": "execute_result"
    }
   ],
   "source": [
    "x_test.shape"
   ]
  },
  {
   "cell_type": "code",
   "execution_count": null,
   "id": "0b1b0b1c",
   "metadata": {},
   "outputs": [],
   "source": []
  }
 ],
 "metadata": {
  "kernelspec": {
   "display_name": "Python 3",
   "language": "python",
   "name": "python3"
  },
  "language_info": {
   "codemirror_mode": {
    "name": "ipython",
    "version": 3
   },
   "file_extension": ".py",
   "mimetype": "text/x-python",
   "name": "python",
   "nbconvert_exporter": "python",
   "pygments_lexer": "ipython3",
   "version": "3.8.8"
  }
 },
 "nbformat": 4,
 "nbformat_minor": 5
}
